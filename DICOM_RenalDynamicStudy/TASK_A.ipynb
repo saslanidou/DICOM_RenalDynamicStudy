{
 "cells": [
  {
   "cell_type": "code",
   "execution_count": 4,
   "metadata": {},
   "outputs": [],
   "source": [
    "import pydicom\n",
    "import matplotlib.pyplot as plt\n",
    "import numpy as np"
   ]
  },
  {
   "cell_type": "code",
   "execution_count": 5,
   "metadata": {},
   "outputs": [
    {
     "name": "stdout",
     "output_type": "stream",
     "text": [
      "ANT keys: 73\n",
      "\n",
      "ANT:\n",
      " \n",
      " 1. (0028, 0030) Pixel Spacing                       DS: [3.319913, 3.319913] \n",
      " 2a. (0008, 0020) Study Date                          DA: '20090831' \n",
      " 2b. (0008, 0030) Study Time                          TM: '074618.00' \n",
      " 3. (0008, 0070) Manufacturer                        LO: 'GE MEDICAL SYSTEMS' \n",
      " 4. (0028, 0008) Number of Frames                    IS: '180' \n",
      " 5. (0054, 0016) Radiopharmaceutical Information Seq SQ: <Sequence, length 1> \n",
      " [(0018, 1071) Radiopharmaceutical Volume          DS: '0.0'\n",
      "(0018, 1074) Radionuclide Total Dose             DS: '0.0'\n",
      "(0054, 0300)  Radionuclide Code Sequence  1 item(s) ---- \n",
      "   (0008, 0100) Code Value                          SH: 'C-163A8'\n",
      "   (0008, 0102) Coding Scheme Designator            SH: 'SNM3'\n",
      "   (0008, 0104) Code Meaning                        LO: '^99m^Technetium'\n",
      "   ---------\n",
      "(0054, 0304)  Radiopharmaceutical Code Sequence  0 item(s) ---- ] \n",
      " 6. (0054, 0012) Energy Window Information Sequence  SQ: <Sequence, length 1> \n",
      " UPPER AND LOWER LIMITS:\n",
      " [(0054, 0013)  Energy Window Range Sequence  1 item(s) ---- \n",
      "   (0054, 0014) Energy Window Lower Limit           DS: '126.0'\n",
      "   (0054, 0015) Energy Window Upper Limit           DS: '154.0'\n",
      "   ---------] \n",
      " 7. (0008, 0031) Series Time                         TM: '075334.00' \n",
      " 8. (0028, 0107) Largest Image Pixel Value           US: 67\n"
     ]
    }
   ],
   "source": [
    "### RENOGRAM TASK A ###\n",
    "\n",
    "##########ANT##########\n",
    "ANT = pydicom.dcmread(\"C:/Users/User/Desktop/ImageSystems/ergasia_renogram/drsprg_114_ANT.dcm\")\n",
    "print ('ANT keys:', len(ANT))\n",
    "#print('\\nANT:\\n', ANT)\n",
    "print('\\nANT:\\n',\n",
    "'\\n 1.', ANT[0x0028,0x0030],\n",
    "'\\n 2a.',ANT[0x0008,0x0020],\n",
    "'\\n 2b.',ANT[0x0008,0x0030],\n",
    "'\\n 3.', ANT[0x0008,0x0070],\n",
    "'\\n 4.', ANT[0x0028,0x0008], \n",
    "'\\n 5.', ANT[0x0054,0x0016],\n",
    "'\\n', ANT.RadiopharmaceuticalInformationSequence,\n",
    "'\\n 6.', ANT[0x0054,0x0012],\n",
    "'\\n UPPER AND LOWER LIMITS:\\n', ANT.EnergyWindowInformationSequence,\n",
    "'\\n 7.', ANT[0x0008,0x0031],\n",
    "'\\n 8.', ANT[0x0028,0x0107])\n"
   ]
  },
  {
   "cell_type": "code",
   "execution_count": 6,
   "metadata": {},
   "outputs": [
    {
     "name": "stdout",
     "output_type": "stream",
     "text": [
      "POST keys: 73\n",
      "\n",
      "POST:\n",
      " \n",
      " 1. (0028, 0030) Pixel Spacing                       DS: [3.319913, 3.319913] \n",
      " 2a. (0008, 0020) Study Date                          DA: '20090831' \n",
      " 2b. (0008, 0030) Study Time                          TM: '074618.00' \n",
      " 3. (0008, 0070) Manufacturer                        LO: 'GE MEDICAL SYSTEMS' \n",
      " 4. (0028, 0008) Number of Frames                    IS: '180' \n",
      " 5. (0054, 0016) Radiopharmaceutical Information Seq SQ: <Sequence, length 1> \n",
      " [(0018, 1071) Radiopharmaceutical Volume          DS: '0.0'\n",
      "(0018, 1074) Radionuclide Total Dose             DS: '0.0'\n",
      "(0054, 0300)  Radionuclide Code Sequence  1 item(s) ---- \n",
      "   (0008, 0100) Code Value                          SH: 'C-163A8'\n",
      "   (0008, 0102) Coding Scheme Designator            SH: 'SNM3'\n",
      "   (0008, 0104) Code Meaning                        LO: '^99m^Technetium'\n",
      "   ---------\n",
      "(0054, 0304)  Radiopharmaceutical Code Sequence  0 item(s) ---- ] \n",
      " 6. (0054, 0012) Energy Window Information Sequence  SQ: <Sequence, length 1> \n",
      " UPPER AND LOWER LIMITS:\n",
      " [(0054, 0013)  Energy Window Range Sequence  1 item(s) ---- \n",
      "   (0054, 0014) Energy Window Lower Limit           DS: '126.0'\n",
      "   (0054, 0015) Energy Window Upper Limit           DS: '154.0'\n",
      "   ---------] \n",
      " 7. (0008, 0031) Series Time                         TM: '075334.00' \n",
      " 8. (0028, 0107) Largest Image Pixel Value           US: 35\n"
     ]
    }
   ],
   "source": [
    "##########POST##########\n",
    "POST = pydicom.dcmread(\"C:/Users/User/Desktop/ImageSystems/ergasia_renogram/drsprg_114_POST.dcm\")\n",
    "print ('POST keys:', len(POST))\n",
    "#print('\\nPOST:\\n', POST)\n",
    "print('\\nPOST:\\n',\n",
    "'\\n 1.', POST[0x0028,0x0030],\n",
    "'\\n 2a.',POST[0x0008,0x0020],\n",
    "'\\n 2b.',POST[0x0008,0x0030],\n",
    "'\\n 3.', POST[0x0008,0x0070],\n",
    "'\\n 4.', POST[0x0028,0x0008], \n",
    "'\\n 5.', POST[0x0054,0x0016], \n",
    "'\\n', ANT.RadiopharmaceuticalInformationSequence,\n",
    "'\\n 6.', POST[0x0054,0x0012],\n",
    "'\\n UPPER AND LOWER LIMITS:\\n', ANT.EnergyWindowInformationSequence,\n",
    "'\\n 7.', POST[0x0008,0x0031],\n",
    "'\\n 8.', POST[0x0028,0x0107])"
   ]
  }
 ],
 "metadata": {
  "kernelspec": {
   "display_name": "Python 3",
   "language": "python",
   "name": "python3"
  },
  "language_info": {
   "codemirror_mode": {
    "name": "ipython",
    "version": 3
   },
   "file_extension": ".py",
   "mimetype": "text/x-python",
   "name": "python",
   "nbconvert_exporter": "python",
   "pygments_lexer": "ipython3",
   "version": "3.10.4 (tags/v3.10.4:9d38120, Mar 23 2022, 23:13:41) [MSC v.1929 64 bit (AMD64)]"
  },
  "orig_nbformat": 4,
  "vscode": {
   "interpreter": {
    "hash": "afb734500600fd355917ca529030176ea0ca205570884b88f2f6f7d791fd3fbe"
   }
  }
 },
 "nbformat": 4,
 "nbformat_minor": 2
}
